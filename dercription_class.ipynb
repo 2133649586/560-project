{
 "cells": [
  {
   "cell_type": "code",
   "execution_count": 20,
   "metadata": {},
   "outputs": [],
   "source": [
    "import random\n",
    "import pandas as pd\n",
    "import nltk\n",
    "import re\n",
    "from nltk.corpus import treebank\n",
    "from sklearn.model_selection import train_test_split\n",
    "from nltk.tokenize import word_tokenize\n",
    "from nltk.corpus import stopwords\n",
    "import torch \n",
    "import torch.nn as nn\n",
    "import torch.nn.functional as F \n",
    "from collections import OrderedDict\n",
    "from torch.utils.data import TensorDataset\n",
    "from torch.utils.data import DataLoader\n",
    "from torch import optim\n",
    "import numpy as np \n",
    "# nltk.download('punkt')\n",
    "description_df = pd.read_csv('dataset/binary_classifiers/description.csv')\n",
    "installation_df = pd.read_csv('dataset/binary_classifiers/installation.csv')\n",
    "invocation_df = pd.read_csv('dataset/binary_classifiers/invocation.csv')\n",
    "citation_df = pd.read_csv('dataset/binary_classifiers/citation.csv')"
   ]
  },
  {
   "cell_type": "code",
   "execution_count": 21,
   "metadata": {},
   "outputs": [],
   "source": [
    "def lower_stopwords(x):\n",
    "    x = re.sub(r'[^a-zA-Z\\s]', '', x, re.I|re.A)\n",
    "    x = x.lower()\n",
    "    x = x.strip()\n",
    "    text_tokens = [word for word in word_tokenize(x) if word not in stopwords.words()]\n",
    "    return \" \".join(text_tokens)"
   ]
  },
  {
   "cell_type": "code",
   "execution_count": 22,
   "metadata": {},
   "outputs": [
    {
     "name": "stdout",
     "output_type": "stream",
     "text": [
      "The original implementation is based on our internal Mxnet version. There are slight differences in the final accuracy and running time due to the plenty details in platform switch.\n"
     ]
    }
   ],
   "source": [
    "print(description_df[\"excerpt\"][6])"
   ]
  },
  {
   "cell_type": "code",
   "execution_count": 23,
   "metadata": {},
   "outputs": [],
   "source": [
    "neg_quant = int(len(description_df) * .375)\n",
    "treebank_background = pd.DataFrame(list(map(lambda sent: ' '.join(sent), random.sample(list(treebank.sents()), neg_quant))), columns=[\"excerpt\"]).assign(description=False)\n",
    "description_corpus = pd.concat([description_df.assign(description=True), installation_df.sample(neg_quant).assign(description=False), invocation_df.sample(neg_quant).assign(description=False), citation_df.sample(neg_quant).assign(description=False),treebank_background], sort=False)\n",
    "description_corpus.drop('URL', 1, inplace=True)\n",
    "description_corpus.dropna(0, inplace=True)\n",
    "description_corpus.reset_index(drop=True, inplace=True)\n",
    "description_corpus[\"excerpt\"] = description_corpus[\"excerpt\"].apply(lower_stopwords)"
   ]
  },
  {
   "cell_type": "code",
   "execution_count": 24,
   "metadata": {},
   "outputs": [
    {
     "name": "stdout",
     "output_type": "stream",
     "text": [
      "             contributor  excerpt\n",
      "description                      \n",
      "False                552      552\n",
      "True                 503      503\n"
     ]
    }
   ],
   "source": [
    "print(description_corpus.groupby(by = \"description\").count())"
   ]
  },
  {
   "cell_type": "code",
   "execution_count": 25,
   "metadata": {},
   "outputs": [],
   "source": [
    "X, y = description_corpus.excerpt, description_corpus.description\n",
    "X_train, X_test, y_train, y_test = train_test_split(X, y)"
   ]
  },
  {
   "cell_type": "code",
   "execution_count": 26,
   "metadata": {},
   "outputs": [],
   "source": [
    "from sklearn.feature_extraction.text import CountVectorizer\n",
    "from sklearn.feature_extraction.text import TfidfVectorizer\n",
    "from sklearn.metrics import confusion_matrix"
   ]
  },
  {
   "cell_type": "code",
   "execution_count": 27,
   "metadata": {},
   "outputs": [],
   "source": [
    "def curtail(array,threshold = 0.0):\n",
    "    return array * (array>=threshold)"
   ]
  },
  {
   "cell_type": "code",
   "execution_count": 28,
   "metadata": {},
   "outputs": [],
   "source": [
    "from sklearn.externals import joblib\n",
    "vectorizer = CountVectorizer()\n",
    "X_vect_train = vectorizer.fit_transform(X_train).toarray()\n",
    "joblib.dump(vectorizer, \"model/vectorizer.m\")\n",
    "X_vect_test =  vectorizer.transform(X_test).toarray()\n",
    "\n",
    "y_hot_train = pd.get_dummies(y_train.values)\n",
    "y_hot_test = pd.get_dummies(y_test.values)\n",
    "\n",
    "class FFN(nn.Module):\n",
    "    \n",
    "    def __init__(self,layer_arch,input_size,output_size,bias = True):\n",
    "        super(FFN,self).__init__()\n",
    "        self.layer_arch = layer_arch\n",
    "        self.input_size = input_size\n",
    "        self.output_size = output_size\n",
    "        self.bias = bias\n",
    "        self.build_model()\n",
    "        \n",
    "    def build_model(self):\n",
    "        model_arch = []\n",
    "        unit = self.input_size\n",
    "        for i,num in enumerate(self.layer_arch):\n",
    "            model_arch.append((\"dense_\"+str(i), nn.Linear(unit,num,bias = self.bias)))\n",
    "            model_arch.append((\"nonlinear_\"+str(i), nn.ReLU()))\n",
    "            if(i==1):\n",
    "                model_arch.append((\"dropout_\"+str(i), nn.Dropout()))\n",
    "            unit = num\n",
    "        model_arch.append((\"dense_final\",nn.Linear(unit,self.output_size,bias=self.bias)))\n",
    "        model_arch.append((\"act_final\",nn.Sigmoid()))\n",
    "        self.model = nn.Sequential(OrderedDict(model_arch))\n",
    "    def forward(self,inputs):\n",
    "        return self.model(inputs)\n",
    "    \n",
    "\n",
    "        "
   ]
  },
  {
   "cell_type": "code",
   "execution_count": 11,
   "metadata": {
    "scrolled": true
   },
   "outputs": [
    {
     "name": "stdout",
     "output_type": "stream",
     "text": [
      "test accuracy is 0\n",
      "test precision is 100.0\n",
      "test recall is 49.81132075471698\n",
      "test F-measure is 66.49874055415617\n",
      "************************\n",
      "test accuracy is 0\n",
      "test precision is 89.39393939393939\n",
      "test recall is 72.39263803680981\n",
      "test F-measure is 80.0\n",
      "************************\n",
      "test accuracy is 0\n",
      "test precision is 90.15151515151516\n",
      "test recall is 71.6867469879518\n",
      "test F-measure is 79.86577181208054\n",
      "************************\n",
      "test accuracy is 0\n",
      "test precision is 87.12121212121212\n",
      "test recall is 78.2312925170068\n",
      "test F-measure is 82.43727598566309\n",
      "************************\n",
      "test accuracy is 0\n",
      "test precision is 90.15151515151516\n",
      "test recall is 73.91304347826086\n",
      "test F-measure is 81.22866894197952\n",
      "************************\n",
      "test accuracy is 0\n",
      "test precision is 86.36363636363636\n",
      "test recall is 76.51006711409396\n",
      "test F-measure is 81.13879003558718\n",
      "************************\n",
      "test accuracy is 0\n",
      "test precision is 89.39393939393939\n",
      "test recall is 73.75\n",
      "test F-measure is 80.82191780821918\n",
      "************************\n",
      "test accuracy is 0\n",
      "test precision is 92.42424242424242\n",
      "test recall is 71.34502923976608\n",
      "test F-measure is 80.52805280528052\n",
      "************************\n",
      "test accuracy is 0\n",
      "test precision is 88.63636363636364\n",
      "test recall is 75.48387096774194\n",
      "test F-measure is 81.53310104529616\n",
      "************************\n",
      "test accuracy is 0\n",
      "test precision is 85.60606060606061\n",
      "test recall is 79.5774647887324\n",
      "test F-measure is 82.48175182481752\n",
      "************************\n",
      "test accuracy is 0\n",
      "test precision is 81.81818181818183\n",
      "test recall is 86.4\n",
      "test F-measure is 84.04669260700389\n",
      "************************\n",
      "test accuracy is 0\n",
      "test precision is 78.03030303030303\n",
      "test recall is 87.28813559322035\n",
      "test F-measure is 82.4\n",
      "************************\n",
      "test accuracy is 0\n",
      "test precision is 90.9090909090909\n",
      "test recall is 71.00591715976331\n",
      "test F-measure is 79.734219269103\n",
      "************************\n",
      "test accuracy is 0\n",
      "test precision is 75.75757575757575\n",
      "test recall is 90.09009009009009\n",
      "test F-measure is 82.30452674897118\n",
      "************************\n",
      "test accuracy is 0\n",
      "test precision is 71.21212121212122\n",
      "test recall is 91.2621359223301\n",
      "test F-measure is 80.00000000000001\n",
      "************************\n",
      "test accuracy is 0\n",
      "test precision is 87.12121212121212\n",
      "test recall is 76.15894039735099\n",
      "test F-measure is 81.2720848056537\n",
      "************************\n",
      "test accuracy is 0\n",
      "test precision is 90.15151515151516\n",
      "test recall is 71.6867469879518\n",
      "test F-measure is 79.86577181208054\n",
      "************************\n",
      "test accuracy is 0\n",
      "test precision is 92.42424242424242\n",
      "test recall is 70.52023121387283\n",
      "test F-measure is 80.0\n",
      "************************\n",
      "test accuracy is 0\n",
      "test precision is 93.18181818181817\n",
      "test recall is 69.49152542372882\n",
      "test F-measure is 79.6116504854369\n",
      "************************\n",
      "test accuracy is 0\n",
      "test precision is 93.18181818181817\n",
      "test recall is 70.6896551724138\n",
      "test F-measure is 80.3921568627451\n",
      "************************\n"
     ]
    }
   ],
   "source": [
    "model = FFN([1024,2048,1024,512,256],X_vect_train.shape[1],2)\n",
    "epoch_num = 20\n",
    "bs = 300\n",
    "train_ds = TensorDataset(torch.tensor(X_vect_train).float(), torch.tensor(y_hot_train.values).float())\n",
    "train_dl = DataLoader(train_ds, batch_size=bs)\n",
    "# opt = optim.SGD(model.parameters(),lr = 0.001)\n",
    "opt = optim.Adam(model.parameters())\n",
    "Fs = [0]\n",
    "for i in range(epoch_num):\n",
    "    for xb,yb in train_dl:\n",
    "        target = torch.argmax(yb,dim = 1,keepdim=False)\n",
    "        pred = model(xb)\n",
    "        loss_fun = nn.CrossEntropyLoss()\n",
    "        loss = loss_fun(pred,target)\n",
    "        loss.backward()\n",
    "        opt.step()\n",
    "        opt.zero_grad()        \n",
    "    #### test metrics #####\n",
    "    test_pred = model(torch.tensor(X_vect_test).float())\n",
    "    test_pred = torch.argmax(test_pred,dim=1,keepdim=False)\n",
    "    ground_truth = torch.argmax(torch.tensor(y_hot_test.values).float(),dim=1,keepdim=False)\n",
    "    tn, fp, fn, tp = confusion_matrix(test_pred,ground_truth).ravel()\n",
    "\n",
    "    ### precision ###\n",
    "    precision = (tp/(tp+fp))*100\n",
    "    ### recall ###\n",
    "    recall = (tp/(tp+fn))*100\n",
    "    ### F-measure ###\n",
    "    F_measure = (2*precision*recall)/(precision+recall)\n",
    "    ### accuracy ###\n",
    "    accuracy = (torch.true_divide((torch.sum((test_pred-ground_truth)==0)),test_pred.shape[0]))*100\n",
    "    if F_measure > max(Fs):\n",
    "        torch.save(model.state_dict(), 'model/description.pt')\n",
    "    Fs.append(F_measure)\n",
    "    print(\"test accuracy is {}\".format(accuracy))\n",
    "    print(\"test precision is {}\".format(precision))\n",
    "    print(\"test recall is {}\".format(recall))\n",
    "    print(\"test F-measure is {}\".format(F_measure))\n",
    "    print(\"************************\")\n"
   ]
  },
  {
   "cell_type": "code",
   "execution_count": 12,
   "metadata": {},
   "outputs": [
    {
     "name": "stdout",
     "output_type": "stream",
     "text": [
      "84.04669260700389\n"
     ]
    }
   ],
   "source": [
    "print(max(Fs))"
   ]
  },
  {
   "cell_type": "code",
   "execution_count": 13,
   "metadata": {},
   "outputs": [
    {
     "data": {
      "text/plain": [
       "2854"
      ]
     },
     "execution_count": 13,
     "metadata": {},
     "output_type": "execute_result"
    }
   ],
   "source": [
    "X_vect_train.shape[1]"
   ]
  },
  {
   "cell_type": "markdown",
   "metadata": {},
   "source": [
    "# installation model"
   ]
  },
  {
   "cell_type": "code",
   "execution_count": 42,
   "metadata": {},
   "outputs": [],
   "source": [
    "neg_quant = int(len(installation_df) * .375)\n",
    "treebank_background = pd.DataFrame(list(map(lambda sent: ' '.join(sent), random.sample(list(treebank.sents()), neg_quant))), columns=[\"excerpt\"]).assign(installation=False)\n",
    "# installation_corpus = pd.concat([installation_df.assign(installation=True), description_df.sample(neg_quant,replace = True).assign(installation=False), invocation_df.sample(neg_quant,replace = True).assign(installation=False), citation_df.sample(neg_quant,replace = True).assign(installation=False),treebank_background], sort=False)\n",
    "installation_corpus = pd.concat([installation_df.assign(installation=True), description_df.sample(neg_quant,replace = True).assign(installation=False), invocation_df.sample(neg_quant,replace = True).assign(installation=False), citation_df.sample(neg_quant,replace = True).assign(installation=False),treebank_background], sort=False)\n",
    "installation_corpus.drop('URL', 1, inplace=True)\n",
    "installation_corpus.dropna(0, inplace=True)\n",
    "installation_corpus.reset_index(drop=True, inplace=True)\n",
    "installation_corpus[\"excerpt\"] = installation_corpus[\"excerpt\"].apply(lower_stopwords)"
   ]
  },
  {
   "cell_type": "code",
   "execution_count": 43,
   "metadata": {},
   "outputs": [
    {
     "name": "stdout",
     "output_type": "stream",
     "text": [
      "              contributor  excerpt\n",
      "installation                      \n",
      "False                1019     1019\n",
      "True                  929      929\n"
     ]
    }
   ],
   "source": [
    "print(installation_corpus.groupby(by = \"installation\").count())"
   ]
  },
  {
   "cell_type": "code",
   "execution_count": 44,
   "metadata": {},
   "outputs": [],
   "source": [
    "X, y = installation_corpus.excerpt, installation_corpus.installation\n",
    "X_train, X_test, y_train, y_test = train_test_split(X, y)"
   ]
  },
  {
   "cell_type": "code",
   "execution_count": 45,
   "metadata": {},
   "outputs": [],
   "source": [
    "from sklearn.feature_extraction.text import CountVectorizer\n",
    "from sklearn.feature_extraction.text import TfidfVectorizer\n",
    "from sklearn.metrics import confusion_matrix"
   ]
  },
  {
   "cell_type": "code",
   "execution_count": 46,
   "metadata": {},
   "outputs": [],
   "source": [
    "def curtail(array,threshold = 0.0):\n",
    "    return array * (array>=threshold)"
   ]
  },
  {
   "cell_type": "code",
   "execution_count": 47,
   "metadata": {},
   "outputs": [],
   "source": [
    "from sklearn.externals import joblib\n",
    "vectorizer = CountVectorizer()\n",
    "X_vect_train = vectorizer.fit_transform(X_train).toarray()\n",
    "joblib.dump(vectorizer, \"model/vectorizer.m\")\n",
    "X_vect_test =  vectorizer.transform(X_test).toarray()\n",
    "\n",
    "y_hot_train = pd.get_dummies(y_train.values)\n",
    "y_hot_test = pd.get_dummies(y_test.values)"
   ]
  },
  {
   "cell_type": "code",
   "execution_count": 48,
   "metadata": {},
   "outputs": [
    {
     "name": "stderr",
     "output_type": "stream",
     "text": [
      "/Users/liyifan/anaconda3/lib/python3.7/site-packages/ipykernel_launcher.py:27: RuntimeWarning: invalid value encountered in long_scalars\n"
     ]
    },
    {
     "name": "stdout",
     "output_type": "stream",
     "text": [
      "test accuracy is 0\n",
      "test precision is 0.0\n",
      "test recall is nan\n",
      "test F-measure is nan\n",
      "************************\n",
      "test accuracy is 0\n",
      "test precision is 77.82258064516128\n",
      "test recall is 94.14634146341463\n",
      "test F-measure is 85.20971302428255\n",
      "************************\n",
      "test accuracy is 0\n",
      "test precision is 87.09677419354838\n",
      "test recall is 92.3076923076923\n",
      "test F-measure is 89.62655601659752\n",
      "************************\n",
      "test accuracy is 0\n",
      "test precision is 87.5\n",
      "test recall is 91.56118143459916\n",
      "test F-measure is 89.48453608247422\n",
      "************************\n",
      "test accuracy is 0\n",
      "test precision is 82.25806451612904\n",
      "test recall is 94.88372093023256\n",
      "test F-measure is 88.12095032397409\n",
      "************************\n",
      "test accuracy is 0\n",
      "test precision is 87.09677419354838\n",
      "test recall is 92.3076923076923\n",
      "test F-measure is 89.62655601659752\n",
      "************************\n",
      "test accuracy is 0\n",
      "test precision is 88.70967741935483\n",
      "test recall is 91.28630705394191\n",
      "test F-measure is 89.97955010224949\n",
      "************************\n",
      "test accuracy is 0\n",
      "test precision is 87.5\n",
      "test recall is 92.73504273504274\n",
      "test F-measure is 90.04149377593362\n",
      "************************\n",
      "test accuracy is 0\n",
      "test precision is 83.46774193548387\n",
      "test recall is 94.52054794520548\n",
      "test F-measure is 88.6509635974304\n",
      "************************\n",
      "test accuracy is 0\n",
      "test precision is 84.67741935483872\n",
      "test recall is 94.5945945945946\n",
      "test F-measure is 89.36170212765958\n",
      "************************\n",
      "test accuracy is 0\n",
      "test precision is 87.90322580645162\n",
      "test recall is 91.59663865546219\n",
      "test F-measure is 89.7119341563786\n",
      "************************\n",
      "test accuracy is 0\n",
      "test precision is 91.12903225806451\n",
      "test recall is 89.32806324110672\n",
      "test F-measure is 90.21956087824351\n",
      "************************\n",
      "test accuracy is 0\n",
      "test precision is 83.46774193548387\n",
      "test recall is 94.0909090909091\n",
      "test F-measure is 88.46153846153845\n",
      "************************\n",
      "test accuracy is 0\n",
      "test precision is 76.61290322580645\n",
      "test recall is 95.0\n",
      "test F-measure is 84.82142857142857\n",
      "************************\n",
      "test accuracy is 0\n",
      "test precision is 87.90322580645162\n",
      "test recall is 92.37288135593221\n",
      "test F-measure is 90.08264462809917\n",
      "************************\n",
      "test accuracy is 0\n",
      "test precision is 92.74193548387096\n",
      "test recall is 89.14728682170544\n",
      "test F-measure is 90.90909090909092\n",
      "************************\n",
      "test accuracy is 0\n",
      "test precision is 87.90322580645162\n",
      "test recall is 91.9831223628692\n",
      "test F-measure is 89.89690721649485\n",
      "************************\n",
      "test accuracy is 0\n",
      "test precision is 85.48387096774194\n",
      "test recall is 93.3920704845815\n",
      "test F-measure is 89.26315789473684\n",
      "************************\n",
      "test accuracy is 0\n",
      "test precision is 81.85483870967742\n",
      "test recall is 94.41860465116278\n",
      "test F-measure is 87.6889848812095\n",
      "************************\n",
      "test accuracy is 0\n",
      "test precision is 81.45161290322581\n",
      "test recall is 95.28301886792453\n",
      "test F-measure is 87.82608695652173\n",
      "************************\n"
     ]
    }
   ],
   "source": [
    "model_installation = FFN([1024,2048,1024,512,256],X_vect_train.shape[1],2)\n",
    "epoch_num = 20\n",
    "bs = 300\n",
    "train_ds = TensorDataset(torch.tensor(X_vect_train).float(), torch.tensor(y_hot_train.values).float())\n",
    "train_dl = DataLoader(train_ds, batch_size=bs)\n",
    "# opt = optim.SGD(model.parameters(),lr = 0.001)\n",
    "opt = optim.Adam(model_installation.parameters())\n",
    "Fs = [0]\n",
    "for i in range(epoch_num):\n",
    "    for xb,yb in train_dl:\n",
    "        target = torch.argmax(yb,dim = 1,keepdim=False)\n",
    "        pred = model_installation(xb)\n",
    "        loss_fun = nn.CrossEntropyLoss()\n",
    "        loss = loss_fun(pred,target)\n",
    "        loss.backward()\n",
    "        opt.step()\n",
    "        opt.zero_grad()        \n",
    "    #### test metrics #####\n",
    "    test_pred = model_installation(torch.tensor(X_vect_test).float())\n",
    "    test_pred = torch.argmax(test_pred,dim=1,keepdim=False)\n",
    "    ground_truth = torch.argmax(torch.tensor(y_hot_test.values).float(),dim=1,keepdim=False)\n",
    "    tn, fp, fn, tp = confusion_matrix(test_pred,ground_truth).ravel()\n",
    "\n",
    "    ### precision ###\n",
    "    precision = (tp/(tp+fp))*100\n",
    "    ### recall ###\n",
    "    recall = (tp/(tp+fn))*100\n",
    "    ### F-measure ###\n",
    "    F_measure = (2*precision*recall)/(precision+recall)\n",
    "    ### accuracy ###\n",
    "    accuracy = (torch.true_divide((torch.sum((test_pred-ground_truth)==0)),test_pred.shape[0]))*100\n",
    "    if F_measure > max(Fs):\n",
    "        torch.save(model.state_dict(), 'model/description.pt')\n",
    "    Fs.append(F_measure)\n",
    "    print(\"test accuracy is {}\".format(accuracy))\n",
    "    print(\"test precision is {}\".format(precision))\n",
    "    print(\"test recall is {}\".format(recall))\n",
    "    print(\"test F-measure is {}\".format(F_measure))\n",
    "    print(\"************************\")\n"
   ]
  },
  {
   "cell_type": "code",
   "execution_count": 49,
   "metadata": {},
   "outputs": [
    {
     "name": "stdout",
     "output_type": "stream",
     "text": [
      "90.90909090909092\n"
     ]
    }
   ],
   "source": [
    "print(max(Fs))"
   ]
  },
  {
   "cell_type": "markdown",
   "metadata": {},
   "source": [
    "# invocation model"
   ]
  },
  {
   "cell_type": "code",
   "execution_count": 62,
   "metadata": {},
   "outputs": [],
   "source": [
    "neg_quant = int(len(invocation_df) * .375)\n",
    "treebank_background = pd.DataFrame(list(map(lambda sent: ' '.join(sent), random.sample(list(treebank.sents()), neg_quant))), columns=[\"excerpt\"]).assign(invocation=False)\n",
    "# installation_corpus = pd.concat([installation_df.assign(installation=True), description_df.sample(neg_quant,replace = True).assign(installation=False), invocation_df.sample(neg_quant,replace = True).assign(installation=False), citation_df.sample(neg_quant,replace = True).assign(installation=False),treebank_background], sort=False)\n",
    "invocation_corpus = pd.concat([invocation_df.assign(invocation=True), description_df.sample(neg_quant,replace = True).assign(invocation=False), installation_df.sample(neg_quant,replace = True).assign(invocation=False), citation_df.sample(neg_quant,replace = True).assign(invocation=False),treebank_background], sort=False)\n",
    "invocation_corpus.drop('URL', 1, inplace=True)\n",
    "invocation_corpus.dropna(0, inplace=True)\n",
    "invocation_corpus.reset_index(drop=True, inplace=True)\n",
    "invocation_corpus[\"excerpt\"] = invocation_corpus[\"excerpt\"].apply(lower_stopwords)"
   ]
  },
  {
   "cell_type": "code",
   "execution_count": 63,
   "metadata": {},
   "outputs": [
    {
     "name": "stdout",
     "output_type": "stream",
     "text": [
      "            contributor  excerpt\n",
      "invocation                      \n",
      "False              1251     1251\n",
      "True               1134     1134\n"
     ]
    }
   ],
   "source": [
    "print(invocation_corpus.groupby(by = \"invocation\").count())"
   ]
  },
  {
   "cell_type": "code",
   "execution_count": 64,
   "metadata": {},
   "outputs": [],
   "source": [
    "X, y = invocation_corpus.excerpt, invocation_corpus.invocation\n",
    "X_train, X_test, y_train, y_test = train_test_split(X, y)"
   ]
  },
  {
   "cell_type": "code",
   "execution_count": 65,
   "metadata": {},
   "outputs": [],
   "source": [
    "from sklearn.externals import joblib\n",
    "vectorizer = CountVectorizer()\n",
    "X_vect_train = vectorizer.fit_transform(X_train).toarray()\n",
    "joblib.dump(vectorizer, \"model/vectorizer.m\")\n",
    "X_vect_test =  vectorizer.transform(X_test).toarray()\n",
    "\n",
    "y_hot_train = pd.get_dummies(y_train.values)\n",
    "y_hot_test = pd.get_dummies(y_test.values)"
   ]
  },
  {
   "cell_type": "code",
   "execution_count": 66,
   "metadata": {},
   "outputs": [
    {
     "name": "stderr",
     "output_type": "stream",
     "text": [
      "/Users/liyifan/anaconda3/lib/python3.7/site-packages/ipykernel_launcher.py:27: RuntimeWarning: invalid value encountered in long_scalars\n"
     ]
    },
    {
     "name": "stdout",
     "output_type": "stream",
     "text": [
      "test accuracy is 0\n",
      "test precision is 0.0\n",
      "test recall is nan\n",
      "test F-measure is nan\n",
      "************************\n",
      "test accuracy is 0\n",
      "test precision is 0.0\n",
      "test recall is nan\n",
      "test F-measure is nan\n",
      "************************\n",
      "test accuracy is 0\n",
      "test precision is 86.12099644128114\n",
      "test recall is 87.05035971223022\n",
      "test F-measure is 86.58318425760287\n",
      "************************\n",
      "test accuracy is 0\n",
      "test precision is 91.45907473309609\n",
      "test recall is 85.66666666666667\n",
      "test F-measure is 88.46815834767642\n",
      "************************\n",
      "test accuracy is 0\n",
      "test precision is 88.61209964412812\n",
      "test recall is 86.159169550173\n",
      "test F-measure is 87.36842105263159\n",
      "************************\n",
      "test accuracy is 0\n",
      "test precision is 91.45907473309609\n",
      "test recall is 83.98692810457517\n",
      "test F-measure is 87.56388415672915\n",
      "************************\n",
      "test accuracy is 0\n",
      "test precision is 92.17081850533808\n",
      "test recall is 80.43478260869566\n",
      "test F-measure is 85.90381426202322\n",
      "************************\n",
      "test accuracy is 0\n",
      "test precision is 77.93594306049823\n",
      "test recall is 89.02439024390245\n",
      "test F-measure is 83.11195445920303\n",
      "************************\n",
      "test accuracy is 0\n",
      "test precision is 90.39145907473309\n",
      "test recall is 84.94983277591973\n",
      "test F-measure is 87.58620689655173\n",
      "************************\n",
      "test accuracy is 0\n",
      "test precision is 91.45907473309609\n",
      "test recall is 83.1715210355987\n",
      "test F-measure is 87.11864406779662\n",
      "************************\n",
      "test accuracy is 0\n",
      "test precision is 88.61209964412812\n",
      "test recall is 85.86206896551725\n",
      "test F-measure is 87.215411558669\n",
      "************************\n",
      "test accuracy is 0\n",
      "test precision is 90.39145907473309\n",
      "test recall is 83.55263157894737\n",
      "test F-measure is 86.83760683760683\n",
      "************************\n",
      "test accuracy is 0\n",
      "test precision is 91.45907473309609\n",
      "test recall is 82.9032258064516\n",
      "test F-measure is 86.97123519458545\n",
      "************************\n",
      "test accuracy is 0\n",
      "test precision is 89.6797153024911\n",
      "test recall is 84.56375838926175\n",
      "test F-measure is 87.04663212435234\n",
      "************************\n",
      "test accuracy is 0\n",
      "test precision is 80.0711743772242\n",
      "test recall is 88.58267716535433\n",
      "test F-measure is 84.11214953271026\n",
      "************************\n",
      "test accuracy is 0\n",
      "test precision is 89.32384341637011\n",
      "test recall is 84.7972972972973\n",
      "test F-measure is 87.00173310225304\n",
      "************************\n",
      "test accuracy is 0\n",
      "test precision is 93.23843416370107\n",
      "test recall is 81.11455108359134\n",
      "test F-measure is 86.75496688741723\n",
      "************************\n",
      "test accuracy is 0\n",
      "test precision is 89.6797153024911\n",
      "test recall is 83.44370860927152\n",
      "test F-measure is 86.44939965694682\n",
      "************************\n",
      "test accuracy is 0\n",
      "test precision is 87.18861209964413\n",
      "test recall is 85.66433566433567\n",
      "test F-measure is 86.41975308641976\n",
      "************************\n",
      "test accuracy is 0\n",
      "test precision is 85.76512455516014\n",
      "test recall is 87.31884057971014\n",
      "test F-measure is 86.53500897666068\n",
      "************************\n"
     ]
    }
   ],
   "source": [
    "model_invocation = FFN([1024,2048,1024,512,256],X_vect_train.shape[1],2)\n",
    "epoch_num = 20\n",
    "bs = 300\n",
    "train_ds = TensorDataset(torch.tensor(X_vect_train).float(), torch.tensor(y_hot_train.values).float())\n",
    "train_dl = DataLoader(train_ds, batch_size=bs)\n",
    "# opt = optim.SGD(model.parameters(),lr = 0.001)\n",
    "opt = optim.Adam(model_invocation.parameters())\n",
    "Fs = [0]\n",
    "for i in range(epoch_num):\n",
    "    for xb,yb in train_dl:\n",
    "        target = torch.argmax(yb,dim = 1,keepdim=False)\n",
    "        pred = model_invocation(xb)\n",
    "        loss_fun = nn.CrossEntropyLoss()\n",
    "        loss = loss_fun(pred,target)\n",
    "        loss.backward()\n",
    "        opt.step()\n",
    "        opt.zero_grad()        \n",
    "    #### test metrics #####\n",
    "    test_pred = model_invocation(torch.tensor(X_vect_test).float())\n",
    "    test_pred = torch.argmax(test_pred,dim=1,keepdim=False)\n",
    "    ground_truth = torch.argmax(torch.tensor(y_hot_test.values).float(),dim=1,keepdim=False)\n",
    "    tn, fp, fn, tp = confusion_matrix(test_pred,ground_truth).ravel()\n",
    "\n",
    "    ### precision ###\n",
    "    precision = (tp/(tp+fp))*100\n",
    "    ### recall ###\n",
    "    recall = (tp/(tp+fn))*100\n",
    "    ### F-measure ###\n",
    "    F_measure = (2*precision*recall)/(precision+recall)\n",
    "    ### accuracy ###\n",
    "    accuracy = (torch.true_divide((torch.sum((test_pred-ground_truth)==0)),test_pred.shape[0]))*100\n",
    "    if F_measure > max(Fs):\n",
    "        torch.save(model.state_dict(), 'model/description.pt')\n",
    "    Fs.append(F_measure)\n",
    "    print(\"test accuracy is {}\".format(accuracy))\n",
    "    print(\"test precision is {}\".format(precision))\n",
    "    print(\"test recall is {}\".format(recall))\n",
    "    print(\"test F-measure is {}\".format(F_measure))\n",
    "    print(\"************************\")"
   ]
  },
  {
   "cell_type": "markdown",
   "metadata": {},
   "source": [
    "# citation model"
   ]
  },
  {
   "cell_type": "code",
   "execution_count": 67,
   "metadata": {},
   "outputs": [],
   "source": [
    "neg_quant = int(len(citation_df) * .375)\n",
    "treebank_background = pd.DataFrame(list(map(lambda sent: ' '.join(sent), random.sample(list(treebank.sents()), neg_quant))), columns=[\"excerpt\"]).assign(citation=False)\n",
    "citation_corpus = pd.concat([citation_df.assign(citation=True), description_df.sample(neg_quant,replace = True).assign(citation=False), installation_df.sample(neg_quant,replace = True).assign(citation=False), invocation_df.sample(neg_quant,replace = True).assign(citation=False),treebank_background], sort=False)\n",
    "citation_corpus.drop('URL', 1, inplace=True)\n",
    "citation_corpus.dropna(0, inplace=True)\n",
    "citation_corpus.reset_index(drop=True, inplace=True)\n",
    "citation_corpus[\"excerpt\"] = citation_corpus[\"excerpt\"].apply(lower_stopwords)"
   ]
  },
  {
   "cell_type": "code",
   "execution_count": 68,
   "metadata": {},
   "outputs": [
    {
     "name": "stdout",
     "output_type": "stream",
     "text": [
      "          contributor  excerpt\n",
      "citation                      \n",
      "False             354      354\n",
      "True              296      296\n"
     ]
    }
   ],
   "source": [
    "print(citation_corpus.groupby(by = \"citation\").count())"
   ]
  },
  {
   "cell_type": "code",
   "execution_count": 69,
   "metadata": {},
   "outputs": [],
   "source": [
    "X, y = citation_corpus.excerpt, citation_corpus.citation\n",
    "X_train, X_test, y_train, y_test = train_test_split(X, y)"
   ]
  },
  {
   "cell_type": "code",
   "execution_count": 70,
   "metadata": {},
   "outputs": [],
   "source": [
    "from sklearn.externals import joblib\n",
    "vectorizer = CountVectorizer()\n",
    "X_vect_train = vectorizer.fit_transform(X_train).toarray()\n",
    "joblib.dump(vectorizer, \"model/vectorizer.m\")\n",
    "X_vect_test =  vectorizer.transform(X_test).toarray()\n",
    "\n",
    "y_hot_train = pd.get_dummies(y_train.values)\n",
    "y_hot_test = pd.get_dummies(y_test.values)"
   ]
  },
  {
   "cell_type": "code",
   "execution_count": 71,
   "metadata": {},
   "outputs": [
    {
     "name": "stderr",
     "output_type": "stream",
     "text": [
      "/Users/liyifan/anaconda3/lib/python3.7/site-packages/ipykernel_launcher.py:27: RuntimeWarning: invalid value encountered in long_scalars\n"
     ]
    },
    {
     "name": "stdout",
     "output_type": "stream",
     "text": [
      "test accuracy is 0\n",
      "test precision is 0.0\n",
      "test recall is nan\n",
      "test F-measure is nan\n",
      "************************\n",
      "test accuracy is 0\n",
      "test precision is 0.0\n",
      "test recall is nan\n",
      "test F-measure is nan\n",
      "************************\n",
      "test accuracy is 0\n",
      "test precision is 0.0\n",
      "test recall is nan\n",
      "test F-measure is nan\n",
      "************************\n",
      "test accuracy is 0\n",
      "test precision is 0.0\n",
      "test recall is nan\n",
      "test F-measure is nan\n",
      "************************\n",
      "test accuracy is 0\n",
      "test precision is 0.0\n",
      "test recall is nan\n",
      "test F-measure is nan\n",
      "************************\n",
      "test accuracy is 0\n",
      "test precision is 0.0\n",
      "test recall is nan\n",
      "test F-measure is nan\n",
      "************************\n",
      "test accuracy is 0\n",
      "test precision is 35.064935064935064\n",
      "test recall is 100.0\n",
      "test F-measure is 51.92307692307691\n",
      "************************\n",
      "test accuracy is 0\n",
      "test precision is 54.54545454545454\n",
      "test recall is 100.0\n",
      "test F-measure is 70.58823529411765\n",
      "************************\n",
      "test accuracy is 0\n",
      "test precision is 57.14285714285714\n",
      "test recall is 100.0\n",
      "test F-measure is 72.72727272727272\n",
      "************************\n",
      "test accuracy is 0\n",
      "test precision is 62.33766233766234\n",
      "test recall is 100.0\n",
      "test F-measure is 76.80000000000001\n",
      "************************\n",
      "test accuracy is 0\n",
      "test precision is 64.93506493506493\n",
      "test recall is 100.0\n",
      "test F-measure is 78.74015748031496\n",
      "************************\n",
      "test accuracy is 0\n",
      "test precision is 71.42857142857143\n",
      "test recall is 98.21428571428571\n",
      "test F-measure is 82.70676691729324\n",
      "************************\n",
      "test accuracy is 0\n",
      "test precision is 93.5064935064935\n",
      "test recall is 90.0\n",
      "test F-measure is 91.71974522292994\n",
      "************************\n",
      "test accuracy is 0\n",
      "test precision is 97.40259740259741\n",
      "test recall is 89.28571428571429\n",
      "test F-measure is 93.16770186335404\n",
      "************************\n",
      "test accuracy is 0\n",
      "test precision is 98.7012987012987\n",
      "test recall is 89.41176470588236\n",
      "test F-measure is 93.82716049382715\n",
      "************************\n",
      "test accuracy is 0\n",
      "test precision is 98.7012987012987\n",
      "test recall is 88.37209302325581\n",
      "test F-measure is 93.25153374233128\n",
      "************************\n",
      "test accuracy is 0\n",
      "test precision is 97.40259740259741\n",
      "test recall is 89.28571428571429\n",
      "test F-measure is 93.16770186335404\n",
      "************************\n",
      "test accuracy is 0\n",
      "test precision is 97.40259740259741\n",
      "test recall is 88.23529411764706\n",
      "test F-measure is 92.5925925925926\n",
      "************************\n",
      "test accuracy is 0\n",
      "test precision is 98.7012987012987\n",
      "test recall is 83.51648351648352\n",
      "test F-measure is 90.47619047619048\n",
      "************************\n",
      "test accuracy is 0\n",
      "test precision is 100.0\n",
      "test recall is 77.0\n",
      "test F-measure is 87.00564971751412\n",
      "************************\n"
     ]
    }
   ],
   "source": [
    "model_citation = FFN([1024,2048,1024,512,256],X_vect_train.shape[1],2)\n",
    "epoch_num = 20\n",
    "bs = 300\n",
    "train_ds = TensorDataset(torch.tensor(X_vect_train).float(), torch.tensor(y_hot_train.values).float())\n",
    "train_dl = DataLoader(train_ds, batch_size=bs)\n",
    "# opt = optim.SGD(model.parameters(),lr = 0.001)\n",
    "opt = optim.Adam(model_citation.parameters())\n",
    "Fs = [0]\n",
    "for i in range(epoch_num):\n",
    "    for xb,yb in train_dl:\n",
    "        target = torch.argmax(yb,dim = 1,keepdim=False)\n",
    "        pred = model_citation(xb)\n",
    "        loss_fun = nn.CrossEntropyLoss()\n",
    "        loss = loss_fun(pred,target)\n",
    "        loss.backward()\n",
    "        opt.step()\n",
    "        opt.zero_grad()        \n",
    "    #### test metrics #####\n",
    "    test_pred = model_citation(torch.tensor(X_vect_test).float())\n",
    "    test_pred = torch.argmax(test_pred,dim=1,keepdim=False)\n",
    "    ground_truth = torch.argmax(torch.tensor(y_hot_test.values).float(),dim=1,keepdim=False)\n",
    "    tn, fp, fn, tp = confusion_matrix(test_pred,ground_truth).ravel()\n",
    "\n",
    "    ### precision ###\n",
    "    precision = (tp/(tp+fp))*100\n",
    "    ### recall ###\n",
    "    recall = (tp/(tp+fn))*100\n",
    "    ### F-measure ###\n",
    "    F_measure = (2*precision*recall)/(precision+recall)\n",
    "    ### accuracy ###\n",
    "    accuracy = (torch.true_divide((torch.sum((test_pred-ground_truth)==0)),test_pred.shape[0]))*100\n",
    "    if F_measure > max(Fs):\n",
    "        torch.save(model.state_dict(), 'model/description.pt')\n",
    "    Fs.append(F_measure)\n",
    "    print(\"test accuracy is {}\".format(accuracy))\n",
    "    print(\"test precision is {}\".format(precision))\n",
    "    print(\"test recall is {}\".format(recall))\n",
    "    print(\"test F-measure is {}\".format(F_measure))\n",
    "    print(\"************************\")"
   ]
  },
  {
   "cell_type": "code",
   "execution_count": 72,
   "metadata": {},
   "outputs": [
    {
     "name": "stdout",
     "output_type": "stream",
     "text": [
      "93.82716049382715\n"
     ]
    }
   ],
   "source": [
    "print(max(Fs))"
   ]
  },
  {
   "cell_type": "code",
   "execution_count": 73,
   "metadata": {},
   "outputs": [
    {
     "data": {
      "text/plain": [
       "1733"
      ]
     },
     "execution_count": 73,
     "metadata": {},
     "output_type": "execute_result"
    }
   ],
   "source": [
    "X_vect_train.shape[1]"
   ]
  },
  {
   "cell_type": "code",
   "execution_count": null,
   "metadata": {},
   "outputs": [],
   "source": []
  }
 ],
 "metadata": {
  "kernelspec": {
   "display_name": "Python 3",
   "language": "python",
   "name": "python3"
  },
  "language_info": {
   "codemirror_mode": {
    "name": "ipython",
    "version": 3
   },
   "file_extension": ".py",
   "mimetype": "text/x-python",
   "name": "python",
   "nbconvert_exporter": "python",
   "pygments_lexer": "ipython3",
   "version": "3.7.3"
  }
 },
 "nbformat": 4,
 "nbformat_minor": 4
}
